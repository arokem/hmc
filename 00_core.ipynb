{
 "cells": [
  {
   "cell_type": "code",
   "execution_count": 1,
   "metadata": {},
   "outputs": [],
   "source": [
    "# default_exp core"
   ]
  },
  {
   "cell_type": "markdown",
   "metadata": {},
   "source": [
    "# hmc\n",
    "\n",
    "> API details.\n"
   ]
  },
  {
   "cell_type": "code",
   "execution_count": null,
   "metadata": {},
   "outputs": [],
   "source": []
  },
  {
   "cell_type": "code",
   "execution_count": 2,
   "metadata": {},
   "outputs": [],
   "source": [
    "#hide\n",
    "from nbdev.showdoc import *"
   ]
  },
  {
   "cell_type": "code",
   "execution_count": 3,
   "metadata": {},
   "outputs": [],
   "source": [
    "import numpy as np\n",
    "\n",
    "import dipy.align as dpa\n",
    "from dipy.io.utils import read_img_arr_or_path\n",
    "from dipy.reconst.sfm import (SparseFascicleModel, SparseFascicleFit,\n",
    "                              IsotropicFit, IsotropicModel,\n",
    "                              _to_fit_iso, nanmean)\n",
    "import dipy.core.gradients as dpg\n",
    "import collections\n",
    "import nibabel as nib\n",
    "from sklearn.base import RegressorMixin\n",
    "import warnings"
   ]
  },
  {
   "cell_type": "code",
   "execution_count": 4,
   "metadata": {},
   "outputs": [],
   "source": [
    "from functools import partial\n",
    "from scipy.linalg import svd \n",
    "svd = partial(svd, full_matrices=False)\n",
    "\n",
    "def _do_svd(X, y, jit=True, USV=None):\n",
    "    \"\"\"\n",
    "    Helper function to produce SVD outputs\n",
    "    \"\"\"\n",
    "    if len(y.shape) == 1:\n",
    "        y = y[:, np.newaxis]\n",
    "\n",
    "    if X.shape[0] > X.shape[1]:\n",
    "        if usv is None:\n",
    "            uu, ss, v_t = svd(X.T @ X)\n",
    "        else: \n",
    "            uu, ss, v_t = USV\n",
    "        selt = np.sqrt(ss)\n",
    "        if y.shape[-1] >= X.shape[0]:\n",
    "            ynew = (1/selt) @ v_t @ X.T @ y\n",
    "        else:\n",
    "            ynew = np.diag(1./selt) @ v_t @ (X.T @ y)\n",
    "\n",
    "    else:\n",
    "        if USV is None: \n",
    "            uu, selt, v_t = svd(X)\n",
    "        else:\n",
    "            uu, selt, v_t = USV\n",
    "        # This rotates the targets by the unitary matrix uu.T:\n",
    "        ynew = uu.T @ y\n",
    "\n",
    "    ols_coef = (ynew.T / selt).T\n",
    "\n",
    "    return uu, selt, v_t, ols_coef\n"
   ]
  },
  {
   "cell_type": "code",
   "execution_count": 5,
   "metadata": {},
   "outputs": [],
   "source": [
    "class ExponentialIsotropicModel(IsotropicModel):\n",
    "    \"\"\"\n",
    "    Representing the isotropic signal as a fit to an exponential decay function\n",
    "    with b-values\n",
    "    \"\"\"\n",
    "    def fit(self, data, mask=None):\n",
    "        \"\"\"\n",
    "\n",
    "        Parameters\n",
    "        ----------\n",
    "        data : ndarray\n",
    "\n",
    "        Returns\n",
    "        -------\n",
    "        ExponentialIsotropicFit class instance.\n",
    "        \"\"\"\n",
    "        to_fit = _to_fit_iso(data, self.gtab, mask=mask)\n",
    "        # Fitting to the log-transformed relative data is much faster:\n",
    "        nz_idx = to_fit > 0\n",
    "        to_fit[nz_idx] = np.log(to_fit[nz_idx])\n",
    "        to_fit[~nz_idx] = -np.inf\n",
    "        p = nanmean(to_fit / self.gtab.bvals[~self.gtab.b0s_mask], -1)\n",
    "        params = -p\n",
    "        if mask is None:\n",
    "            params = np.reshape(params, data.shape[:-1])\n",
    "        else:\n",
    "            out_params = np.zeros(data.shape[:-1])\n",
    "            out_params[mask] = params\n",
    "            params = out_params\n",
    "        return ExponentialIsotropicFit(self, params)"
   ]
  },
  {
   "cell_type": "code",
   "execution_count": 6,
   "metadata": {},
   "outputs": [],
   "source": [
    "class ExponentialIsotropicFit(IsotropicFit):\n",
    "    \"\"\"\n",
    "    A fit to the ExponentialIsotropicModel object, based on data.\n",
    "    \"\"\"\n",
    "    def predict(self, gtab=None):\n",
    "        \"\"\"\n",
    "        Predict the isotropic signal, based on a gradient table. In this case,\n",
    "        the prediction will be for an exponential decay with the mean\n",
    "        diffusivity derived from the data that was fit.\n",
    "\n",
    "        Parameters\n",
    "        ----------\n",
    "        gtab : a GradientTable class instance (optional)\n",
    "            Defaults to use the gtab from the IsotropicModel from which this\n",
    "            fit was derived.\n",
    "        \"\"\"\n",
    "        if gtab is None:\n",
    "            gtab = self.model.gtab\n",
    "        if len(self.params.shape) == 0:\n",
    "            pred = np.exp(-gtab.bvals[~gtab.b0s_mask] *\n",
    "                          (np.zeros(np.sum(~gtab.b0s_mask)) +\n",
    "                          self.params[..., np.newaxis]))\n",
    "        else:\n",
    "            pred = np.exp(-gtab.bvals[~gtab.b0s_mask] *\n",
    "                          (np.zeros((self.params.shape +\n",
    "                                     (int(np.sum(~gtab.b0s_mask)), ))) +\n",
    "                          self.params[..., np.newaxis]))\n",
    "        return pred"
   ]
  },
  {
   "cell_type": "code",
   "execution_count": 7,
   "metadata": {},
   "outputs": [],
   "source": [
    "BIG_BIAS = 10e3\n",
    "SMALL_BIAS = 10e-3\n",
    "BIAS_STEP = 0.2\n",
    "\n",
    "\n",
    "class SFM4HMC(SparseFascicleModel):\n",
    "    \"\"\"\n",
    "    We need to reimplement the fit, so that we can use the FRR cleverness\n",
    "    under the hood\n",
    "    \"\"\"\n",
    "    def fit(self, data, frac=0.5, mask=None, tol=10e-10):\n",
    "        \"\"\"\n",
    "        Fit the SparseFascicleModel object to data.\n",
    "\n",
    "        Parameters\n",
    "        ----------\n",
    "        data : array\n",
    "            The measured signal.\n",
    "\n",
    "        mask : array, optional\n",
    "            A boolean array used to mark the coordinates in the data that\n",
    "            should be analyzed. Has the shape `data.shape[:-1]`. Default: None,\n",
    "            which implies that all points should be analyzed.\n",
    "\n",
    "        Returns\n",
    "        -------\n",
    "        SparseFascicleFit object\n",
    "        \"\"\"\n",
    "        if mask is None:\n",
    "            # Flatten it to 2D either way:\n",
    "            data_in_mask = np.reshape(data, (-1, data.shape[-1]))\n",
    "        else:\n",
    "            # Check for valid shape of the mask\n",
    "            if mask.shape != data.shape[:-1]:\n",
    "                raise ValueError(\"Mask is not the same shape as data.\")\n",
    "            mask = np.array(mask, dtype=bool, copy=False)\n",
    "            data_in_mask = np.reshape(data[mask], (-1, data.shape[-1]))\n",
    "\n",
    "        # Fitting is done on the relative signal (S/S0):\n",
    "        flat_S0 = np.mean(data_in_mask[..., self.gtab.b0s_mask], -1)\n",
    "        if not flat_S0.size or not flat_S0.max():\n",
    "            flat_S = np.zeros(data_in_mask[..., ~self.gtab.b0s_mask].shape)\n",
    "        else:\n",
    "            flat_S = (data_in_mask[..., ~self.gtab.b0s_mask] /\n",
    "                      flat_S0[..., None])\n",
    "        isotropic = self.isotropic(self.gtab).fit(data, mask)\n",
    "\n",
    "        # We don't need to preallocate: ##\n",
    "        # flat_params = np.zeros((data_in_mask.shape[0],\n",
    "        #                         self.design_matrix.shape[-1]))\n",
    "\n",
    "        isopredict = isotropic.predict()\n",
    "\n",
    "        if mask is None:\n",
    "            isopredict = np.reshape(isopredict, (-1, isopredict.shape[-1]))\n",
    "        else:\n",
    "            isopredict = isopredict[mask]\n",
    "\n",
    "        # Here's where things get different: ##\n",
    "        y = (flat_S - isopredict).T\n",
    "        # Making sure nan voxels get 0 params:\n",
    "        nan_targets = np.unique(np.where(~np.isfinite(y))[1])\n",
    "        y[:, nan_targets] = 0\n",
    "\n",
    "        ### FIT FRACRIDGE\n",
    "        if hasattr(self, \"USV\"):\n",
    "            USV = self.USV\n",
    "        else:\n",
    "            USV = None\n",
    "        X = self.design_matrix\n",
    "        uu, selt, v_t, ols_coef = _do_svd(X, y, USV=USV)\n",
    "\n",
    "        self.USV = uu, selt, v_t\n",
    "\n",
    "        # Set solutions for small eigenvalues to 0 for all targets:\n",
    "        isbad = selt < tol\n",
    "        if np.any(isbad):\n",
    "            warnings.warn(\"Some eigenvalues are being treated as 0\")\n",
    "\n",
    "        ols_coef[isbad, ...] = 0\n",
    "\n",
    "        # Limits on the grid of candidate alphas used for interpolation:\n",
    "        val1 = BIG_BIAS * selt[0] ** 2\n",
    "        val2 = SMALL_BIAS * selt[-1] ** 2\n",
    "\n",
    "        # Generates the grid of candidate alphas used in interpolation:\n",
    "        alphagrid = np.concatenate(\n",
    "            [np.array([0]),\n",
    "            10 ** np.arange(np.floor(np.log10(val2)),\n",
    "                            np.ceil(np.log10(val1)), BIAS_STEP)])\n",
    "\n",
    "        # The scaling factor applied to coefficients in the rotated space is\n",
    "        # lambda**2 / (lambda**2 + alpha), where lambda are the singular values\n",
    "        seltsq = selt**2\n",
    "        sclg = seltsq / (seltsq + alphagrid[:, None])\n",
    "        sclg_sq = sclg**2\n",
    "        bb = y.shape[-1]\n",
    "        ff = 1\n",
    "\n",
    "        # Prellocate the solution:\n",
    "        coef = np.empty((X.shape[0], bb))\n",
    "        alphas = np.empty((ff, bb))\n",
    "\n",
    "        # The main loop is over targets:\n",
    "        for ii in range(y.shape[-1]):\n",
    "            # Applies the scaling factors per alpha\n",
    "            newlen = np.sqrt(sclg_sq @ ols_coef[..., ii]**2).T\n",
    "            # Normalize to the length of the unregularized solution,\n",
    "            # because (alphagrid[0] == 0)\n",
    "            newlen = (newlen / newlen[0])\n",
    "            # Perform interpolation in a log transformed space (so it behaves\n",
    "            # nicely), avoiding log of 0.\n",
    "            temp = np.interp(frac, newlen[::-1], np.log(1 + alphagrid)[::-1])\n",
    "            # Undo the log transform from the previous step\n",
    "            targetalphas = np.exp(temp) - 1\n",
    "            # Allocate the alphas for this target:\n",
    "            alphas[:, ii] = targetalphas\n",
    "            # Calculate the new scaling factor, based on the interpolated alphas:\n",
    "            sc = seltsq / (seltsq + targetalphas[np.newaxis].T)\n",
    "            # Use the scaling factor to calculate coefficients in the rotated\n",
    "            # space:\n",
    "            coef[..., ii] = (sc * ols_coef[..., ii]).T\n",
    "\n",
    "        # After iterating over all targets, we unrotate using the unitary v\n",
    "        # matrix and reshape to conform to desired output:\n",
    "        coef = np.reshape(v_t.T @ coef.reshape((first_dim, ff * bb)),\n",
    "                        (pp, ff, bb))\n",
    "\n",
    "        flat_params = coef.squeeze().T\n",
    "\n",
    "        # flat_params = self.solver.fit(self.design_matrix, y).coef_.T\n",
    "\n",
    "        # We avoid this loop over the data: ##\n",
    "        # for vox, vox_data in enumerate(flat_S):\n",
    "        #     # In voxels in which S0 is 0, we just want to keep the\n",
    "        #     # parameters at all-zeros, and avoid nasty sklearn errors:\n",
    "        #     if not (np.any(~np.isfinite(vox_data)) or np.all(vox_data == 0)):\n",
    "        #         fit_it = vox_data - isopredict[vox]\n",
    "        #         with warnings.catch_warnings():\n",
    "        #             warnings.simplefilter(\"ignore\")\n",
    "        #             flat_params[vox] = self.solver.fit(self.design_matrix,\n",
    "        #                                                fit_it).coef_\n",
    "\n",
    "        if mask is None:\n",
    "            out_shape = data.shape[:-1] + (-1, )\n",
    "            beta = flat_params.reshape(out_shape)\n",
    "            S0 = flat_S0.reshape(data.shape[:-1])\n",
    "        else:\n",
    "            beta = np.zeros(data.shape[:-1] +\n",
    "                            (self.design_matrix.shape[-1],))\n",
    "            beta[mask, :] = flat_params\n",
    "            S0 = np.zeros(data.shape[:-1])\n",
    "            S0[mask] = flat_S0\n",
    "\n",
    "        return SparseFascicleFit(self, beta, S0, isotropic)"
   ]
  },
  {
   "cell_type": "code",
   "execution_count": 8,
   "metadata": {},
   "outputs": [],
   "source": [
    "# class FRR4SFM(FracRidgeRegressor, RegressorMixin):\n",
    "#     def __init__(self, fracs=None, fit_intercept=False, normalize=False,\n",
    "#                  copy_X=True, tol=1e-10, jit=True):\n",
    "#         FracRidgeRegressor.__init__(\n",
    "#             self, fracs=fracs, fit_intercept=False, normalize=False,\n",
    "#             copy_X=True, tol=tol, jit=True)        "
   ]
  },
  {
   "cell_type": "code",
   "execution_count": 9,
   "metadata": {},
   "outputs": [],
   "source": [
    "def prep_data(gtab, data, mask=None):\n",
    "    if mask is None:\n",
    "        mask = np.ones(data.shape[:3]).astype(bool)\n",
    "    b0 = np.mean(data[mask][:, gtab.b0s_mask], -1)\n",
    "    dwi = data[mask][:, ~gtab.b0s_mask] / b0[np.newaxis].T\n",
    "    return dwi.T"
   ]
  },
  {
   "cell_type": "code",
   "execution_count": 10,
   "metadata": {},
   "outputs": [],
   "source": [
    "def prep_sfm(gtab, data, mask=None):\n",
    "    y = prep_data(gtab, data, mask)\n",
    "    isotropic = ExponentialIsotropicModel(gtab)\n",
    "    sfm = SparseFascicleModel(gtab)#, isotropic=isotropic)\n",
    "    X = sfm.design_matrix\n",
    "    return X, y"
   ]
  },
  {
   "cell_type": "code",
   "execution_count": 11,
   "metadata": {},
   "outputs": [],
   "source": [
    "from dipy.data import get_fnames\n",
    "from dipy.core.gradients import gradient_table\n",
    "\n",
    "fdata, fbvals, fbvecs = get_fnames(\"sherbrooke_3shell\")\n",
    "gtab = gradient_table(fbvals, fbvecs, b0_threshold=0)\n",
    "img = nib.load(fdata)\n",
    "data = img.get_fdata()\n"
   ]
  },
  {
   "cell_type": "code",
   "execution_count": 12,
   "metadata": {},
   "outputs": [],
   "source": [
    "# We fix b0 to be one volume, registered to one of the\n",
    "# b0 volumes (first, per default):\n",
    "if np.sum(gtab.b0s_mask) > 1:\n",
    "    b0_img = nib.Nifti1Image(data[..., gtab.b0s_mask], affine)\n",
    "    trans_b0, b0_affines = dpa.register_series(b0_img, ref=b0_ref)\n",
    "    ref_data = np.mean(trans_b0, -1)[..., np.newaxis]\n",
    "else:\n",
    "    # There's only one b0 and we register everything to it\n",
    "    trans_b0 = ref_data = data[..., gtab.b0s_mask]\n",
    "\n",
    "moving_data = data[..., ~gtab.b0s_mask]\n",
    "moving_bvals = gtab.bvals[~gtab.b0s_mask]\n",
    "moving_bvecs = gtab.bvecs[~gtab.b0s_mask]\n",
    "mask = np.ones(ref_data.shape[:3])\n",
    "mask[np.where(ref_data[..., 0] == 0)] = 0\n"
   ]
  },
  {
   "cell_type": "code",
   "execution_count": 13,
   "metadata": {},
   "outputs": [],
   "source": [
    "loo = 0 \n",
    "loo_idxer = np.ones(moving_data.shape[-1]).astype(bool)\n",
    "loo_idxer[loo] = False\n",
    "\n",
    "in_data = np.concatenate([ref_data, moving_data[..., loo_idxer]], -1)\n",
    "in_gtab = dpg.gradient_table(\n",
    "    np.concatenate([np.array([0]), moving_bvals[loo_idxer]]),\n",
    "    np.concatenate([np.array([[0, 0, 0]]), moving_bvecs[loo_idxer]]))\n"
   ]
  },
  {
   "cell_type": "code",
   "execution_count": 14,
   "metadata": {},
   "outputs": [],
   "source": [
    "sfm = SFM4HMC(\n",
    "    in_gtab,\n",
    "    isotropic=ExponentialIsotropicModel)"
   ]
  },
  {
   "cell_type": "code",
   "execution_count": 15,
   "metadata": {},
   "outputs": [
    {
     "output_type": "error",
     "ename": "ValueError",
     "evalue": "could not broadcast input array from shape (191) into shape (191,1)",
     "traceback": [
      "\u001b[0;31m---------------------------------------------------------------------------\u001b[0m",
      "\u001b[0;31mValueError\u001b[0m                                Traceback (most recent call last)",
      "\u001b[0;32m<ipython-input-15-7ac200dae32f>\u001b[0m in \u001b[0;36m<module>\u001b[0;34m\u001b[0m\n\u001b[0;32m----> 1\u001b[0;31m \u001b[0msff\u001b[0m \u001b[0;34m=\u001b[0m \u001b[0msfm\u001b[0m\u001b[0;34m.\u001b[0m\u001b[0mfit\u001b[0m\u001b[0;34m(\u001b[0m\u001b[0min_data\u001b[0m\u001b[0;34m,\u001b[0m \u001b[0mmask\u001b[0m\u001b[0;34m=\u001b[0m\u001b[0mmask\u001b[0m\u001b[0;34m,\u001b[0m \u001b[0mfrac\u001b[0m\u001b[0;34m=\u001b[0m\u001b[0;36m0.9\u001b[0m\u001b[0;34m)\u001b[0m\u001b[0;34m\u001b[0m\u001b[0;34m\u001b[0m\u001b[0m\n\u001b[0m",
      "\u001b[0;32m<ipython-input-7-090b8b387fcf>\u001b[0m in \u001b[0;36mfit\u001b[0;34m(self, data, frac, mask, tol)\u001b[0m\n\u001b[1;32m    120\u001b[0m             \u001b[0;31m# Use the scaling factor to calculate coefficients in the rotated\u001b[0m\u001b[0;34m\u001b[0m\u001b[0;34m\u001b[0m\u001b[0;34m\u001b[0m\u001b[0m\n\u001b[1;32m    121\u001b[0m             \u001b[0;31m# space:\u001b[0m\u001b[0;34m\u001b[0m\u001b[0;34m\u001b[0m\u001b[0;34m\u001b[0m\u001b[0m\n\u001b[0;32m--> 122\u001b[0;31m             \u001b[0mcoef\u001b[0m\u001b[0;34m[\u001b[0m\u001b[0;34m...\u001b[0m\u001b[0;34m,\u001b[0m \u001b[0mii\u001b[0m\u001b[0;34m]\u001b[0m \u001b[0;34m=\u001b[0m \u001b[0;34m(\u001b[0m\u001b[0msc\u001b[0m \u001b[0;34m*\u001b[0m \u001b[0mols_coef\u001b[0m\u001b[0;34m[\u001b[0m\u001b[0;34m...\u001b[0m\u001b[0;34m,\u001b[0m \u001b[0mii\u001b[0m\u001b[0;34m]\u001b[0m\u001b[0;34m)\u001b[0m\u001b[0;34m.\u001b[0m\u001b[0mT\u001b[0m\u001b[0;34m\u001b[0m\u001b[0;34m\u001b[0m\u001b[0m\n\u001b[0m\u001b[1;32m    123\u001b[0m \u001b[0;34m\u001b[0m\u001b[0m\n\u001b[1;32m    124\u001b[0m         \u001b[0;31m# After iterating over all targets, we unrotate using the unitary v\u001b[0m\u001b[0;34m\u001b[0m\u001b[0;34m\u001b[0m\u001b[0;34m\u001b[0m\u001b[0m\n",
      "\u001b[0;31mValueError\u001b[0m: could not broadcast input array from shape (191) into shape (191,1)"
     ]
    }
   ],
   "source": [
    "sff = sfm.fit(in_data, mask=mask, frac=0.9)"
   ]
  },
  {
   "cell_type": "code",
   "execution_count": 17,
   "metadata": {},
   "outputs": [
    {
     "output_type": "stream",
     "name": "stdout",
     "text": [
      "> \u001b[0;32m<ipython-input-7-1622e26d0985>\u001b[0m(126)\u001b[0;36mfit\u001b[0;34m()\u001b[0m\n",
      "\u001b[0;32m    124 \u001b[0;31m            \u001b[0;31m# Use the scaling factor to calculate coefficients in the rotated\u001b[0m\u001b[0;34m\u001b[0m\u001b[0;34m\u001b[0m\u001b[0;34m\u001b[0m\u001b[0m\n",
      "\u001b[0m\u001b[0;32m    125 \u001b[0;31m            \u001b[0;31m# space:\u001b[0m\u001b[0;34m\u001b[0m\u001b[0;34m\u001b[0m\u001b[0;34m\u001b[0m\u001b[0m\n",
      "\u001b[0m\u001b[0;32m--> 126 \u001b[0;31m            \u001b[0mcoef\u001b[0m\u001b[0;34m[\u001b[0m\u001b[0;34m...\u001b[0m\u001b[0;34m,\u001b[0m \u001b[0mii\u001b[0m\u001b[0;34m]\u001b[0m \u001b[0;34m=\u001b[0m \u001b[0;34m(\u001b[0m\u001b[0msc\u001b[0m \u001b[0;34m*\u001b[0m \u001b[0mols_coef\u001b[0m\u001b[0;34m[\u001b[0m\u001b[0;34m...\u001b[0m\u001b[0;34m,\u001b[0m \u001b[0mii\u001b[0m\u001b[0;34m]\u001b[0m\u001b[0;34m)\u001b[0m\u001b[0;34m.\u001b[0m\u001b[0mT\u001b[0m\u001b[0;34m\u001b[0m\u001b[0;34m\u001b[0m\u001b[0m\n",
      "\u001b[0m\u001b[0;32m    127 \u001b[0;31m\u001b[0;34m\u001b[0m\u001b[0m\n",
      "\u001b[0m\u001b[0;32m    128 \u001b[0;31m        \u001b[0;31m# After iterating over all targets, we unrotate using the unitary v\u001b[0m\u001b[0;34m\u001b[0m\u001b[0;34m\u001b[0m\u001b[0;34m\u001b[0m\u001b[0m\n",
      "\u001b[0m\n",
      "(362, 1, 974979)\n",
      "(191, 362)\n"
     ]
    }
   ],
   "source": [
    "debug"
   ]
  },
  {
   "cell_type": "code",
   "execution_count": 35,
   "metadata": {},
   "outputs": [],
   "source": [
    "pred = sff.predict(in_gtab)"
   ]
  },
  {
   "cell_type": "code",
   "execution_count": 36,
   "metadata": {},
   "outputs": [
    {
     "output_type": "execute_result",
     "data": {
      "text/plain": [
       "(128, 128, 60, 192)"
      ]
     },
     "metadata": {},
     "execution_count": 36
    }
   ],
   "source": [
    "pred.shape"
   ]
  },
  {
   "cell_type": "code",
   "execution_count": 37,
   "metadata": {},
   "outputs": [
    {
     "output_type": "execute_result",
     "data": {
      "text/plain": [
       "(128, 128, 60, 192)"
      ]
     },
     "metadata": {},
     "execution_count": 37
    }
   ],
   "source": [
    "in_data.shape"
   ]
  },
  {
   "cell_type": "code",
   "execution_count": 38,
   "metadata": {},
   "outputs": [],
   "source": [
    "import matplotlib.pyplot as plt"
   ]
  },
  {
   "cell_type": "code",
   "execution_count": 39,
   "metadata": {},
   "outputs": [
    {
     "output_type": "execute_result",
     "data": {
      "text/plain": [
       "[<matplotlib.lines.Line2D at 0x7fb77a638c70>]"
      ]
     },
     "metadata": {},
     "execution_count": 39
    },
    {
     "output_type": "display_data",
     "data": {
      "text/plain": "<Figure size 432x288 with 1 Axes>",
      "image/svg+xml": "<?xml version=\"1.0\" encoding=\"utf-8\" standalone=\"no\"?>\n<!DOCTYPE svg PUBLIC \"-//W3C//DTD SVG 1.1//EN\"\n  \"http://www.w3.org/Graphics/SVG/1.1/DTD/svg11.dtd\">\n<!-- Created with matplotlib (https://matplotlib.org/) -->\n<svg height=\"248.518125pt\" version=\"1.1\" viewBox=\"0 0 383.95481 248.518125\" width=\"383.95481pt\" xmlns=\"http://www.w3.org/2000/svg\" xmlns:xlink=\"http://www.w3.org/1999/xlink\">\n <metadata>\n  <rdf:RDF xmlns:cc=\"http://creativecommons.org/ns#\" xmlns:dc=\"http://purl.org/dc/elements/1.1/\" xmlns:rdf=\"http://www.w3.org/1999/02/22-rdf-syntax-ns#\">\n   <cc:Work>\n    <dc:type rdf:resource=\"http://purl.org/dc/dcmitype/StillImage\"/>\n    <dc:date>2020-10-29T15:02:49.229186</dc:date>\n    <dc:format>image/svg+xml</dc:format>\n    <dc:creator>\n     <cc:Agent>\n      <dc:title>Matplotlib v3.3.2, https://matplotlib.org/</dc:title>\n     </cc:Agent>\n    </dc:creator>\n   </cc:Work>\n  </rdf:RDF>\n </metadata>\n <defs>\n  <style type=\"text/css\">*{stroke-linecap:butt;stroke-linejoin:round;}</style>\n </defs>\n <g id=\"figure_1\">\n  <g id=\"patch_1\">\n   <path d=\"M 0 248.518125 \nL 383.95481 248.518125 \nL 383.95481 0 \nL 0 0 \nz\n\" style=\"fill:none;\"/>\n  </g>\n  <g id=\"axes_1\">\n   <g id=\"patch_2\">\n    <path d=\"M 33.2875 224.64 \nL 368.0875 224.64 \nL 368.0875 7.2 \nL 33.2875 7.2 \nz\n\" style=\"fill:#ffffff;\"/>\n   </g>\n   <g id=\"matplotlib.axis_1\">\n    <g id=\"xtick_1\">\n     <g id=\"line2d_1\">\n      <defs>\n       <path d=\"M 0 0 \nL 0 3.5 \n\" id=\"m72da037c21\" style=\"stroke:#000000;stroke-width:0.8;\"/>\n      </defs>\n      <g>\n       <use style=\"stroke:#000000;stroke-width:0.8;\" x=\"48.505682\" xlink:href=\"#m72da037c21\" y=\"224.64\"/>\n      </g>\n     </g>\n     <g id=\"text_1\">\n      <!-- 0 -->\n      <g transform=\"translate(45.324432 239.238437)scale(0.1 -0.1)\">\n       <defs>\n        <path d=\"M 31.78125 66.40625 \nQ 24.171875 66.40625 20.328125 58.90625 \nQ 16.5 51.421875 16.5 36.375 \nQ 16.5 21.390625 20.328125 13.890625 \nQ 24.171875 6.390625 31.78125 6.390625 \nQ 39.453125 6.390625 43.28125 13.890625 \nQ 47.125 21.390625 47.125 36.375 \nQ 47.125 51.421875 43.28125 58.90625 \nQ 39.453125 66.40625 31.78125 66.40625 \nz\nM 31.78125 74.21875 \nQ 44.046875 74.21875 50.515625 64.515625 \nQ 56.984375 54.828125 56.984375 36.375 \nQ 56.984375 17.96875 50.515625 8.265625 \nQ 44.046875 -1.421875 31.78125 -1.421875 \nQ 19.53125 -1.421875 13.0625 8.265625 \nQ 6.59375 17.96875 6.59375 36.375 \nQ 6.59375 54.828125 13.0625 64.515625 \nQ 19.53125 74.21875 31.78125 74.21875 \nz\n\" id=\"DejaVuSans-48\"/>\n       </defs>\n       <use xlink:href=\"#DejaVuSans-48\"/>\n      </g>\n     </g>\n    </g>\n    <g id=\"xtick_2\">\n     <g id=\"line2d_2\">\n      <g>\n       <use style=\"stroke:#000000;stroke-width:0.8;\" x=\"88.343854\" xlink:href=\"#m72da037c21\" y=\"224.64\"/>\n      </g>\n     </g>\n     <g id=\"text_2\">\n      <!-- 25 -->\n      <g transform=\"translate(81.981354 239.238437)scale(0.1 -0.1)\">\n       <defs>\n        <path d=\"M 19.1875 8.296875 \nL 53.609375 8.296875 \nL 53.609375 0 \nL 7.328125 0 \nL 7.328125 8.296875 \nQ 12.9375 14.109375 22.625 23.890625 \nQ 32.328125 33.6875 34.8125 36.53125 \nQ 39.546875 41.84375 41.421875 45.53125 \nQ 43.3125 49.21875 43.3125 52.78125 \nQ 43.3125 58.59375 39.234375 62.25 \nQ 35.15625 65.921875 28.609375 65.921875 \nQ 23.96875 65.921875 18.8125 64.3125 \nQ 13.671875 62.703125 7.8125 59.421875 \nL 7.8125 69.390625 \nQ 13.765625 71.78125 18.9375 73 \nQ 24.125 74.21875 28.421875 74.21875 \nQ 39.75 74.21875 46.484375 68.546875 \nQ 53.21875 62.890625 53.21875 53.421875 \nQ 53.21875 48.921875 51.53125 44.890625 \nQ 49.859375 40.875 45.40625 35.40625 \nQ 44.1875 33.984375 37.640625 27.21875 \nQ 31.109375 20.453125 19.1875 8.296875 \nz\n\" id=\"DejaVuSans-50\"/>\n        <path d=\"M 10.796875 72.90625 \nL 49.515625 72.90625 \nL 49.515625 64.59375 \nL 19.828125 64.59375 \nL 19.828125 46.734375 \nQ 21.96875 47.46875 24.109375 47.828125 \nQ 26.265625 48.1875 28.421875 48.1875 \nQ 40.625 48.1875 47.75 41.5 \nQ 54.890625 34.8125 54.890625 23.390625 \nQ 54.890625 11.625 47.5625 5.09375 \nQ 40.234375 -1.421875 26.90625 -1.421875 \nQ 22.3125 -1.421875 17.546875 -0.640625 \nQ 12.796875 0.140625 7.71875 1.703125 \nL 7.71875 11.625 \nQ 12.109375 9.234375 16.796875 8.0625 \nQ 21.484375 6.890625 26.703125 6.890625 \nQ 35.15625 6.890625 40.078125 11.328125 \nQ 45.015625 15.765625 45.015625 23.390625 \nQ 45.015625 31 40.078125 35.4375 \nQ 35.15625 39.890625 26.703125 39.890625 \nQ 22.75 39.890625 18.8125 39.015625 \nQ 14.890625 38.140625 10.796875 36.28125 \nz\n\" id=\"DejaVuSans-53\"/>\n       </defs>\n       <use xlink:href=\"#DejaVuSans-50\"/>\n       <use x=\"63.623047\" xlink:href=\"#DejaVuSans-53\"/>\n      </g>\n     </g>\n    </g>\n    <g id=\"xtick_3\">\n     <g id=\"line2d_3\">\n      <g>\n       <use style=\"stroke:#000000;stroke-width:0.8;\" x=\"128.182026\" xlink:href=\"#m72da037c21\" y=\"224.64\"/>\n      </g>\n     </g>\n     <g id=\"text_3\">\n      <!-- 50 -->\n      <g transform=\"translate(121.819526 239.238437)scale(0.1 -0.1)\">\n       <use xlink:href=\"#DejaVuSans-53\"/>\n       <use x=\"63.623047\" xlink:href=\"#DejaVuSans-48\"/>\n      </g>\n     </g>\n    </g>\n    <g id=\"xtick_4\">\n     <g id=\"line2d_4\">\n      <g>\n       <use style=\"stroke:#000000;stroke-width:0.8;\" x=\"168.020199\" xlink:href=\"#m72da037c21\" y=\"224.64\"/>\n      </g>\n     </g>\n     <g id=\"text_4\">\n      <!-- 75 -->\n      <g transform=\"translate(161.657699 239.238437)scale(0.1 -0.1)\">\n       <defs>\n        <path d=\"M 8.203125 72.90625 \nL 55.078125 72.90625 \nL 55.078125 68.703125 \nL 28.609375 0 \nL 18.3125 0 \nL 43.21875 64.59375 \nL 8.203125 64.59375 \nz\n\" id=\"DejaVuSans-55\"/>\n       </defs>\n       <use xlink:href=\"#DejaVuSans-55\"/>\n       <use x=\"63.623047\" xlink:href=\"#DejaVuSans-53\"/>\n      </g>\n     </g>\n    </g>\n    <g id=\"xtick_5\">\n     <g id=\"line2d_5\">\n      <g>\n       <use style=\"stroke:#000000;stroke-width:0.8;\" x=\"207.858371\" xlink:href=\"#m72da037c21\" y=\"224.64\"/>\n      </g>\n     </g>\n     <g id=\"text_5\">\n      <!-- 100 -->\n      <g transform=\"translate(198.314621 239.238437)scale(0.1 -0.1)\">\n       <defs>\n        <path d=\"M 12.40625 8.296875 \nL 28.515625 8.296875 \nL 28.515625 63.921875 \nL 10.984375 60.40625 \nL 10.984375 69.390625 \nL 28.421875 72.90625 \nL 38.28125 72.90625 \nL 38.28125 8.296875 \nL 54.390625 8.296875 \nL 54.390625 0 \nL 12.40625 0 \nz\n\" id=\"DejaVuSans-49\"/>\n       </defs>\n       <use xlink:href=\"#DejaVuSans-49\"/>\n       <use x=\"63.623047\" xlink:href=\"#DejaVuSans-48\"/>\n       <use x=\"127.246094\" xlink:href=\"#DejaVuSans-48\"/>\n      </g>\n     </g>\n    </g>\n    <g id=\"xtick_6\">\n     <g id=\"line2d_6\">\n      <g>\n       <use style=\"stroke:#000000;stroke-width:0.8;\" x=\"247.696543\" xlink:href=\"#m72da037c21\" y=\"224.64\"/>\n      </g>\n     </g>\n     <g id=\"text_6\">\n      <!-- 125 -->\n      <g transform=\"translate(238.152793 239.238437)scale(0.1 -0.1)\">\n       <use xlink:href=\"#DejaVuSans-49\"/>\n       <use x=\"63.623047\" xlink:href=\"#DejaVuSans-50\"/>\n       <use x=\"127.246094\" xlink:href=\"#DejaVuSans-53\"/>\n      </g>\n     </g>\n    </g>\n    <g id=\"xtick_7\">\n     <g id=\"line2d_7\">\n      <g>\n       <use style=\"stroke:#000000;stroke-width:0.8;\" x=\"287.534716\" xlink:href=\"#m72da037c21\" y=\"224.64\"/>\n      </g>\n     </g>\n     <g id=\"text_7\">\n      <!-- 150 -->\n      <g transform=\"translate(277.990966 239.238437)scale(0.1 -0.1)\">\n       <use xlink:href=\"#DejaVuSans-49\"/>\n       <use x=\"63.623047\" xlink:href=\"#DejaVuSans-53\"/>\n       <use x=\"127.246094\" xlink:href=\"#DejaVuSans-48\"/>\n      </g>\n     </g>\n    </g>\n    <g id=\"xtick_8\">\n     <g id=\"line2d_8\">\n      <g>\n       <use style=\"stroke:#000000;stroke-width:0.8;\" x=\"327.372888\" xlink:href=\"#m72da037c21\" y=\"224.64\"/>\n      </g>\n     </g>\n     <g id=\"text_8\">\n      <!-- 175 -->\n      <g transform=\"translate(317.829138 239.238437)scale(0.1 -0.1)\">\n       <use xlink:href=\"#DejaVuSans-49\"/>\n       <use x=\"63.623047\" xlink:href=\"#DejaVuSans-55\"/>\n       <use x=\"127.246094\" xlink:href=\"#DejaVuSans-53\"/>\n      </g>\n     </g>\n    </g>\n    <g id=\"xtick_9\">\n     <g id=\"line2d_9\">\n      <g>\n       <use style=\"stroke:#000000;stroke-width:0.8;\" x=\"367.21106\" xlink:href=\"#m72da037c21\" y=\"224.64\"/>\n      </g>\n     </g>\n     <g id=\"text_9\">\n      <!-- 200 -->\n      <g transform=\"translate(357.66731 239.238437)scale(0.1 -0.1)\">\n       <use xlink:href=\"#DejaVuSans-50\"/>\n       <use x=\"63.623047\" xlink:href=\"#DejaVuSans-48\"/>\n       <use x=\"127.246094\" xlink:href=\"#DejaVuSans-48\"/>\n      </g>\n     </g>\n    </g>\n   </g>\n   <g id=\"matplotlib.axis_2\">\n    <g id=\"ytick_1\">\n     <g id=\"line2d_10\">\n      <defs>\n       <path d=\"M 0 0 \nL -3.5 0 \n\" id=\"m936c850e01\" style=\"stroke:#000000;stroke-width:0.8;\"/>\n      </defs>\n      <g>\n       <use style=\"stroke:#000000;stroke-width:0.8;\" x=\"33.2875\" xlink:href=\"#m936c850e01\" y=\"211.946404\"/>\n      </g>\n     </g>\n     <g id=\"text_10\">\n      <!-- 0 -->\n      <g transform=\"translate(19.925 215.745622)scale(0.1 -0.1)\">\n       <use xlink:href=\"#DejaVuSans-48\"/>\n      </g>\n     </g>\n    </g>\n    <g id=\"ytick_2\">\n     <g id=\"line2d_11\">\n      <g>\n       <use style=\"stroke:#000000;stroke-width:0.8;\" x=\"33.2875\" xlink:href=\"#m936c850e01\" y=\"164.050303\"/>\n      </g>\n     </g>\n     <g id=\"text_11\">\n      <!-- 50 -->\n      <g transform=\"translate(13.5625 167.849522)scale(0.1 -0.1)\">\n       <use xlink:href=\"#DejaVuSans-53\"/>\n       <use x=\"63.623047\" xlink:href=\"#DejaVuSans-48\"/>\n      </g>\n     </g>\n    </g>\n    <g id=\"ytick_3\">\n     <g id=\"line2d_12\">\n      <g>\n       <use style=\"stroke:#000000;stroke-width:0.8;\" x=\"33.2875\" xlink:href=\"#m936c850e01\" y=\"116.154202\"/>\n      </g>\n     </g>\n     <g id=\"text_12\">\n      <!-- 100 -->\n      <g transform=\"translate(7.2 119.953421)scale(0.1 -0.1)\">\n       <use xlink:href=\"#DejaVuSans-49\"/>\n       <use x=\"63.623047\" xlink:href=\"#DejaVuSans-48\"/>\n       <use x=\"127.246094\" xlink:href=\"#DejaVuSans-48\"/>\n      </g>\n     </g>\n    </g>\n    <g id=\"ytick_4\">\n     <g id=\"line2d_13\">\n      <g>\n       <use style=\"stroke:#000000;stroke-width:0.8;\" x=\"33.2875\" xlink:href=\"#m936c850e01\" y=\"68.258101\"/>\n      </g>\n     </g>\n     <g id=\"text_13\">\n      <!-- 150 -->\n      <g transform=\"translate(7.2 72.05732)scale(0.1 -0.1)\">\n       <use xlink:href=\"#DejaVuSans-49\"/>\n       <use x=\"63.623047\" xlink:href=\"#DejaVuSans-53\"/>\n       <use x=\"127.246094\" xlink:href=\"#DejaVuSans-48\"/>\n      </g>\n     </g>\n    </g>\n    <g id=\"ytick_5\">\n     <g id=\"line2d_14\">\n      <g>\n       <use style=\"stroke:#000000;stroke-width:0.8;\" x=\"33.2875\" xlink:href=\"#m936c850e01\" y=\"20.362\"/>\n      </g>\n     </g>\n     <g id=\"text_14\">\n      <!-- 200 -->\n      <g transform=\"translate(7.2 24.161219)scale(0.1 -0.1)\">\n       <use xlink:href=\"#DejaVuSans-50\"/>\n       <use x=\"63.623047\" xlink:href=\"#DejaVuSans-48\"/>\n       <use x=\"127.246094\" xlink:href=\"#DejaVuSans-48\"/>\n      </g>\n     </g>\n    </g>\n   </g>\n   <g id=\"line2d_15\">\n    <path clip-path=\"url(#p852a3e389f)\" d=\"M 48.505682 85.500698 \nL 50.099209 178.419133 \nL 51.692736 204.283028 \nL 53.286262 138.186408 \nL 54.879789 101.785372 \nL 56.473316 27.067455 \nL 58.066843 116.154202 \nL 59.66037 174.587445 \nL 61.253897 60.594725 \nL 62.847424 184.166665 \nL 64.440951 135.312642 \nL 66.034478 186.082509 \nL 67.628005 58.678881 \nL 69.221531 148.723551 \nL 70.815058 93.164074 \nL 72.408585 99.869528 \nL 74.002112 119.027968 \nL 75.595639 142.018096 \nL 77.189166 186.082509 \nL 78.782693 86.45862 \nL 80.37622 190.872119 \nL 81.969747 28.025377 \nL 83.563273 136.270564 \nL 85.1568 190.872119 \nL 86.750327 112.322514 \nL 88.343854 165.008225 \nL 89.937381 100.82745 \nL 91.530908 93.164074 \nL 94.717962 134.35472 \nL 96.311489 44.310051 \nL 97.905015 150.639395 \nL 99.498542 144.891863 \nL 101.092069 87.416542 \nL 102.685596 80.711087 \nL 104.279123 89.332386 \nL 105.87265 135.312642 \nL 107.466177 138.186408 \nL 109.059704 113.280436 \nL 110.653231 105.61706 \nL 112.246757 137.228486 \nL 113.840284 104.659138 \nL 115.433811 92.206152 \nL 117.027338 151.597317 \nL 118.620865 143.933941 \nL 120.214392 128.607188 \nL 121.807919 155.429005 \nL 123.401446 130.523032 \nL 124.994973 144.891863 \nL 126.5885 87.416542 \nL 128.182026 92.206152 \nL 129.775553 147.765629 \nL 131.36908 163.092381 \nL 132.962607 103.701216 \nL 134.556134 145.849785 \nL 136.149661 89.332386 \nL 137.743188 76.879399 \nL 139.336715 138.186408 \nL 140.930242 52.931349 \nL 142.523768 165.008225 \nL 144.117295 101.785372 \nL 145.710822 64.426413 \nL 147.304349 159.260693 \nL 148.897876 205.24095 \nL 150.491403 130.523032 \nL 152.08493 162.134459 \nL 153.678457 151.597317 \nL 155.271984 190.872119 \nL 156.86551 161.176537 \nL 158.459037 126.691344 \nL 160.052564 131.480954 \nL 161.646091 166.924069 \nL 163.239618 105.61706 \nL 164.833145 174.587445 \nL 166.426672 175.545367 \nL 168.020199 159.260693 \nL 169.613726 115.19628 \nL 171.207252 177.461211 \nL 172.800779 136.270564 \nL 174.394306 137.228486 \nL 175.987833 79.753165 \nL 177.58136 142.976018 \nL 179.174887 179.377055 \nL 180.768414 133.396798 \nL 182.361941 190.872119 \nL 183.955468 80.711087 \nL 185.548995 125.733422 \nL 187.142521 190.872119 \nL 188.736048 186.082509 \nL 190.329575 180.334977 \nL 191.923102 141.060174 \nL 193.516629 168.839913 \nL 195.110156 172.671601 \nL 196.703683 157.344849 \nL 198.29721 70.173945 \nL 199.890737 101.785372 \nL 201.484263 207.156794 \nL 203.07779 152.555239 \nL 204.671317 87.416542 \nL 206.264844 102.743294 \nL 207.858371 179.377055 \nL 209.451898 198.535495 \nL 211.045425 139.14433 \nL 212.638952 129.56511 \nL 214.232479 96.03784 \nL 215.826005 136.270564 \nL 217.419532 159.260693 \nL 219.013059 157.344849 \nL 220.606586 193.745885 \nL 222.200113 136.270564 \nL 223.79364 181.292899 \nL 225.387167 180.334977 \nL 226.980694 109.448748 \nL 228.574221 119.027968 \nL 230.167748 162.134459 \nL 231.761274 156.386927 \nL 233.354801 173.629523 \nL 234.948328 179.377055 \nL 236.541855 163.092381 \nL 238.135382 183.208743 \nL 239.728909 131.480954 \nL 241.322436 171.713679 \nL 242.915963 192.787963 \nL 244.50949 158.302771 \nL 246.103016 161.176537 \nL 247.696543 178.419133 \nL 249.29007 162.134459 \nL 250.883597 169.797835 \nL 252.477124 99.869528 \nL 254.070651 198.535495 \nL 255.664178 164.050303 \nL 257.257705 194.703807 \nL 258.851232 103.701216 \nL 260.444758 123.817578 \nL 262.038285 164.050303 \nL 263.631812 173.629523 \nL 265.225339 134.35472 \nL 266.818866 182.250821 \nL 268.412393 182.250821 \nL 270.00592 183.208743 \nL 271.599447 171.713679 \nL 273.192974 168.839913 \nL 274.7865 133.396798 \nL 276.380027 139.14433 \nL 277.973554 132.438876 \nL 279.567081 117.112124 \nL 281.160608 152.555239 \nL 282.754135 165.966147 \nL 284.347662 171.713679 \nL 285.941189 87.416542 \nL 287.534716 129.56511 \nL 289.128243 161.176537 \nL 290.721769 197.577573 \nL 292.315296 130.523032 \nL 293.908823 141.060174 \nL 295.50235 175.545367 \nL 297.095877 192.787963 \nL 298.689404 180.334977 \nL 300.282931 138.186408 \nL 301.876458 151.597317 \nL 303.469985 185.124587 \nL 305.063511 137.228486 \nL 306.657038 119.98589 \nL 308.250565 161.176537 \nL 309.844092 186.082509 \nL 311.437619 175.545367 \nL 313.031146 160.218615 \nL 314.624673 200.451339 \nL 316.2182 187.040431 \nL 317.811727 196.619651 \nL 319.405253 142.976018 \nL 320.99878 189.914197 \nL 322.592307 193.745885 \nL 324.185834 138.186408 \nL 325.779361 150.639395 \nL 327.372888 137.228486 \nL 328.966415 166.924069 \nL 330.559942 163.092381 \nL 332.153469 161.176537 \nL 333.746995 185.124587 \nL 335.340522 175.545367 \nL 336.934049 190.872119 \nL 338.527576 165.008225 \nL 340.121103 210.03056 \nL 341.71463 139.14433 \nL 343.308157 120.943812 \nL 344.901684 105.61706 \nL 346.495211 189.914197 \nL 348.088738 199.493417 \nL 349.682264 156.386927 \nL 351.275791 188.956275 \nL 352.869318 167.881991 \nL 352.869318 167.881991 \n\" style=\"fill:none;stroke:#1f77b4;stroke-linecap:square;stroke-width:1.5;\"/>\n   </g>\n   <g id=\"line2d_16\">\n    <path clip-path=\"url(#p852a3e389f)\" d=\"M 48.505682 85.500698 \nL 50.099209 179.092197 \nL 51.692736 194.897911 \nL 53.286262 141.553628 \nL 54.879789 97.10006 \nL 56.473316 39.804349 \nL 58.066843 119.820773 \nL 59.66037 174.64684 \nL 61.253897 76.355061 \nL 62.847424 175.140769 \nL 64.440951 158.347199 \nL 66.034478 167.237912 \nL 67.628005 62.525062 \nL 69.221531 167.299653 \nL 70.815058 77.342918 \nL 72.408585 108.954345 \nL 74.002112 143.40586 \nL 75.595639 141.553628 \nL 77.189166 153.407913 \nL 78.782693 98.087917 \nL 80.37622 209.715767 \nL 81.969747 17.083636 \nL 83.563273 157.359342 \nL 85.1568 191.934339 \nL 86.750327 96.112203 \nL 88.343854 133.650772 \nL 89.937381 90.18506 \nL 91.530908 117.845058 \nL 93.124435 102.039345 \nL 94.717962 143.529342 \nL 96.311489 38.816492 \nL 97.905015 165.262198 \nL 101.092069 72.403633 \nL 102.685596 123.772201 \nL 104.279123 105.002916 \nL 105.87265 143.529342 \nL 107.466177 121.796487 \nL 109.059704 132.168986 \nL 110.653231 145.505057 \nL 112.246757 113.04469 \nL 113.840284 89.320685 \nL 115.433811 101.051488 \nL 117.027338 177.116483 \nL 118.620865 109.942202 \nL 120.214392 151.432199 \nL 121.807919 146.492914 \nL 123.401446 131.675058 \nL 124.994973 123.772201 \nL 126.5885 74.379347 \nL 128.182026 107.966488 \nL 129.775553 146.986842 \nL 131.36908 159.273315 \nL 132.962607 141.553628 \nL 134.556134 176.128626 \nL 136.149661 70.427919 \nL 137.743188 112.905773 \nL 139.336715 161.31077 \nL 140.930242 80.306489 \nL 142.523768 127.723629 \nL 144.117295 137.6022 \nL 145.710822 43.755777 \nL 147.304349 143.529342 \nL 148.897876 179.092197 \nL 150.491403 160.424224 \nL 152.08493 134.73994 \nL 153.678457 162.399938 \nL 155.271984 182.15708 \nL 156.86551 177.217795 \nL 158.459037 150.545653 \nL 160.052564 126.837084 \nL 161.646091 166.845295 \nL 163.239618 124.861369 \nL 164.833145 178.205652 \nL 166.426672 167.400965 \nL 168.020199 192.035651 \nL 169.613726 95.225657 \nL 171.207252 181.663151 \nL 172.800779 133.628601 \nL 174.394306 156.472796 \nL 175.987833 120.909941 \nL 177.58136 156.472796 \nL 179.174887 176.229938 \nL 180.768414 138.691369 \nL 182.361941 194.011365 \nL 183.955468 97.201371 \nL 185.548995 166.351367 \nL 187.142521 186.108508 \nL 188.736048 172.278509 \nL 190.329575 170.302795 \nL 191.923102 126.837084 \nL 193.516629 158.44851 \nL 195.110156 160.424224 \nL 196.703683 166.351367 \nL 198.29721 48.302446 \nL 199.890737 116.958513 \nL 201.484263 214.756364 \nL 203.07779 164.375653 \nL 204.671317 93.249943 \nL 206.264844 121.897798 \nL 207.858371 162.399938 \nL 209.451898 182.15708 \nL 211.045425 139.679226 \nL 212.638952 113.994942 \nL 214.232479 106.771237 \nL 215.826005 111.710522 \nL 217.419532 143.136725 \nL 219.013059 155.484939 \nL 220.606586 209.817078 \nL 222.200113 119.922084 \nL 223.79364 182.15708 \nL 225.387167 196.974936 \nL 226.980694 108.067799 \nL 228.574221 114.48887 \nL 230.167748 170.302795 \nL 231.761274 151.533511 \nL 233.354801 176.476902 \nL 234.948328 190.059937 \nL 236.541855 146.594225 \nL 238.135382 166.351367 \nL 239.728909 112.019227 \nL 241.322436 161.412081 \nL 242.915963 168.327081 \nL 244.50949 162.399938 \nL 246.103016 194.011365 \nL 247.696543 161.412081 \nL 249.29007 155.484939 \nL 250.883597 170.302795 \nL 252.477124 112.755947 \nL 254.070651 176.966657 \nL 255.664178 175.9788 \nL 257.257705 189.808799 \nL 258.851232 98.925948 \nL 260.444758 123.622375 \nL 262.038285 171.039515 \nL 263.631812 167.828979 \nL 265.225339 136.464517 \nL 266.818866 168.075944 \nL 268.412393 186.104335 \nL 270.00592 198.699513 \nL 271.599447 160.667015 \nL 273.192974 167.088086 \nL 274.7865 138.93416 \nL 276.380027 147.330945 \nL 277.973554 145.849159 \nL 279.567081 116.707375 \nL 281.160608 159.679158 \nL 282.754135 176.966657 \nL 284.347662 170.051658 \nL 285.941189 94.97452 \nL 287.534716 150.294516 \nL 289.128243 165.112372 \nL 290.721769 196.723799 \nL 292.315296 138.440231 \nL 293.908823 136.464517 \nL 295.50235 181.905943 \nL 297.095877 186.845228 \nL 298.689404 171.039515 \nL 300.282931 135.229696 \nL 301.876458 147.330945 \nL 303.469985 187.833085 \nL 305.063511 135.970588 \nL 306.657038 142.391659 \nL 308.250565 171.533443 \nL 309.844092 185.857371 \nL 311.437619 185.857371 \nL 313.031146 152.27023 \nL 314.624673 188.080049 \nL 316.2182 171.162997 \nL 317.811727 187.586121 \nL 319.405253 154.492909 \nL 320.99878 198.205584 \nL 322.592307 191.784513 \nL 324.185834 137.20541 \nL 325.779361 139.922017 \nL 327.372888 153.752016 \nL 328.966415 162.148801 \nL 330.559942 168.693354 \nL 332.153469 173.015229 \nL 333.746995 187.833085 \nL 335.340522 182.399871 \nL 336.934049 204.626655 \nL 338.527576 172.274336 \nL 340.121103 195.735942 \nL 341.71463 141.156838 \nL 343.308157 109.298447 \nL 344.901684 110.780233 \nL 346.495211 184.869514 \nL 348.088738 214.505226 \nL 349.682264 152.764159 \nL 351.275791 196.723799 \nL 352.869318 164.124515 \nL 352.869318 164.124515 \n\" style=\"fill:none;stroke:#ff7f0e;stroke-linecap:square;stroke-width:1.5;\"/>\n   </g>\n   <g id=\"patch_3\">\n    <path d=\"M 33.2875 224.64 \nL 33.2875 7.2 \n\" style=\"fill:none;stroke:#000000;stroke-linecap:square;stroke-linejoin:miter;stroke-width:0.8;\"/>\n   </g>\n   <g id=\"patch_4\">\n    <path d=\"M 368.0875 224.64 \nL 368.0875 7.2 \n\" style=\"fill:none;stroke:#000000;stroke-linecap:square;stroke-linejoin:miter;stroke-width:0.8;\"/>\n   </g>\n   <g id=\"patch_5\">\n    <path d=\"M 33.2875 224.64 \nL 368.0875 224.64 \n\" style=\"fill:none;stroke:#000000;stroke-linecap:square;stroke-linejoin:miter;stroke-width:0.8;\"/>\n   </g>\n   <g id=\"patch_6\">\n    <path d=\"M 33.2875 7.2 \nL 368.0875 7.2 \n\" style=\"fill:none;stroke:#000000;stroke-linecap:square;stroke-linejoin:miter;stroke-width:0.8;\"/>\n   </g>\n  </g>\n </g>\n <defs>\n  <clipPath id=\"p852a3e389f\">\n   <rect height=\"217.44\" width=\"334.8\" x=\"33.2875\" y=\"7.2\"/>\n  </clipPath>\n </defs>\n</svg>\n",
      "image/png": "[encoded data removed]"
     },
     "metadata": {
      "needs_background": "light"
     }
    }
   ],
   "source": [
    "plt.plot(in_data[64, 64, 30])\n",
    "plt.plot(pred[64, 64, 30])"
   ]
  },
  {
   "cell_type": "code",
   "execution_count": 46,
   "metadata": {},
   "outputs": [
    {
     "output_type": "execute_result",
     "data": {
      "text/plain": [
       "array([False, False, False, False, False, False, False, False, False,\n",
       "       False, False, False, False, False, False, False, False, False,\n",
       "       False, False, False, False, False, False, False, False, False,\n",
       "       False, False, False, False, False, False, False, False, False,\n",
       "       False, False, False, False, False, False, False, False, False,\n",
       "       False, False, False, False, False, False, False, False, False,\n",
       "       False, False, False, False, False, False, False, False, False,\n",
       "       False, False, False, False, False, False, False, False, False,\n",
       "       False, False, False, False, False, False, False, False, False,\n",
       "       False, False, False, False, False, False, False, False, False,\n",
       "       False, False, False, False, False, False, False, False, False,\n",
       "       False, False, False, False, False, False, False, False, False,\n",
       "       False, False, False, False, False, False, False, False, False,\n",
       "       False, False, False, False, False, False, False, False, False,\n",
       "       False, False, False, False, False, False, False, False, False,\n",
       "       False, False, False, False, False, False, False, False, False,\n",
       "       False, False, False, False, False, False, False, False, False,\n",
       "       False, False, False, False, False, False, False, False, False,\n",
       "       False, False, False, False, False, False, False, False, False,\n",
       "       False, False, False, False, False, False, False, False,  True,\n",
       "        True,  True,  True,  True,  True,  True,  True,  True,  True,\n",
       "        True,  True])"
      ]
     },
     "metadata": {},
     "execution_count": 46
    }
   ],
   "source": [
    "sfm.USV[1] < 10e-10"
   ]
  },
  {
   "cell_type": "code",
   "execution_count": 19,
   "metadata": {},
   "outputs": [],
   "source": [
    "def hmc(data, gtab, mask=None, b0_ref=0, affine=None):\n",
    "    data, affine = read_img_arr_or_path(data, affine=affine)\n",
    "    if isinstance(gtab, collections.Sequence):\n",
    "        gtab = dpg.gradient_table(*gtab)\n",
    "\n",
    "    # We fix b0 to be one volume, registered to one of the\n",
    "    # b0 volumes (first, per default):\n",
    "    if np.sum(gtab.b0s_mask) > 1:\n",
    "        b0_img = nib.Nifti1Image(data[..., gtab.b0s_mask], affine)\n",
    "        trans_b0, b0_affines = dpa.register_series(b0_img, ref=b0_ref)\n",
    "        ref_data = np.mean(trans_b0, -1)[..., np.newaxis]\n",
    "    else:\n",
    "        # There's only one b0 and we register everything to it\n",
    "        trans_b0 = ref_data = data[..., gtab.b0s_mask]\n",
    "\n",
    "    moving_data = data[..., ~gtab.b0s_mask]\n",
    "    moving_bvals = gtab.bvals[~gtab.b0s_mask]\n",
    "    moving_bvecs = gtab.bvecs[~gtab.b0s_mask]\n",
    "    mask = np.ones(ref_data.shape[:3])\n",
    "    mask[np.where(ref_data[..., 0] == 0)] = 0\n",
    "    clf = FRR4SFM(fracs=0.5)\n",
    "    moved = []\n",
    "    affines = []\n",
    "    for loo in range(moving_data.shape[-1]):\n",
    "        print(loo)\n",
    "        loo_idxer = np.ones(moving_data.shape[-1]).astype(bool)\n",
    "        loo_idxer[loo] = False\n",
    "\n",
    "        in_data = np.concatenate([ref_data, moving_data[..., loo_idxer]], -1)\n",
    "        in_gtab = dpg.gradient_table(\n",
    "            np.concatenate([np.array([0]), moving_bvals[loo_idxer]]),\n",
    "            np.concatenate([np.array([[0, 0, 0]]), moving_bvecs[loo_idxer]]))\n",
    "\n",
    "        sfm = SFM4HMC(\n",
    "            in_gtab,\n",
    "            isotropic=ExponentialIsotropicModel,\n",
    "            solver=clf)\n",
    "\n",
    "        sff = sfm.fit(in_data, mask=mask)\n",
    "        out_data = moving_data[..., ~loo_idxer]\n",
    "        out_gtab = dpg.gradient_table(moving_bvals[~loo_idxer],\n",
    "                                      moving_bvecs[~loo_idxer])\n",
    "\n",
    "        out_pred = sff.predict(out_gtab, S0=ref_data[..., 0])\n",
    "\n",
    "        resampled, starting_affine = dpa.affine_registration(\n",
    "            out_data[..., 0],\n",
    "            out_pred,\n",
    "            moving_affine=affine,\n",
    "            static_affine=affine,\n",
    "            pipeline=[dpa.affine],\n",
    "            level_iters=[10, 10, 1])\n",
    "\n",
    "        moved.append(resampled)\n",
    "        affines.append(starting_affine)\n",
    "        in_data[..., loo] = resampled\n",
    "\n",
    "# Reuse USV from a single SVD decomposition of X at the beginning of each\n",
    "# loop through all of the volumes. Should speed up the RR fit in every volume.\n",
    "\n",
    "# Use a sliding window to fit only to n nearest neighbors."
   ]
  },
  {
   "cell_type": "code",
   "execution_count": null,
   "metadata": {},
   "outputs": [],
   "source": []
  }
 ],
 "metadata": {
  "kernelspec": {
   "display_name": "Python 3",
   "language": "python",
   "name": "python3"
  },
  "language_info": {
   "codemirror_mode": {
    "name": "ipython",
    "version": 3
   },
   "file_extension": ".py",
   "mimetype": "text/x-python",
   "name": "python",
   "nbconvert_exporter": "python",
   "pygments_lexer": "ipython3",
   "version": "3.8.5-final"
  }
 },
 "nbformat": 4,
 "nbformat_minor": 2
}